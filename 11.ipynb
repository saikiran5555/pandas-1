{
 "cells": [
  {
   "cell_type": "code",
   "execution_count": null,
   "id": "d7985366",
   "metadata": {},
   "outputs": [],
   "source": [
    "import pandas as pd\n",
    "\n",
    "# Prompt the user for the CSV file path\n",
    "file_path = input(\"Enter the file path of the CSV file containing student data: \")\n",
    "\n",
    "# Read the CSV file into a Pandas DataFrame\n",
    "try:\n",
    "    df = pd.read_csv(file_path)\n",
    "except FileNotFoundError:\n",
    "    print(\"File not found. Please check the file path.\")\n",
    "    exit()\n",
    "\n",
    "# Calculate the mean, median, and mode of the test scores\n",
    "mean_score = df['Test Score'].mean()\n",
    "median_score = df['Test Score'].median()\n",
    "mode_scores = df['Test Score'].mode().tolist()\n",
    "\n",
    "# Create a table to display the results\n",
    "results = pd.DataFrame({\n",
    "    'Statistic': ['Mean', 'Median', 'Mode'],\n",
    "    'Value': [mean_score, median_score, ', '.join(map(str, mode_scores))]\n",
    "})\n",
    "\n",
    "# Display the table\n",
    "print(results)\n"
   ]
  },
  {
   "cell_type": "markdown",
   "id": "c5840e24",
   "metadata": {},
   "source": [
    "In this program:\n",
    "\n",
    "The user is prompted to enter the CSV file path.\n",
    "\n",
    "The program reads the CSV file into a DataFrame using pd.read_csv.\n",
    "\n",
    "It calculates the mean, median, and mode of the 'Test Score' column using appropriate Pandas functions.\n",
    "\n",
    "The results are displayed in a table using another Pandas DataFrame.\n",
    "\n",
    "The table is printed to the console."
   ]
  }
 ],
 "metadata": {
  "kernelspec": {
   "display_name": "Python 3 (ipykernel)",
   "language": "python",
   "name": "python3"
  },
  "language_info": {
   "codemirror_mode": {
    "name": "ipython",
    "version": 3
   },
   "file_extension": ".py",
   "mimetype": "text/x-python",
   "name": "python",
   "nbconvert_exporter": "python",
   "pygments_lexer": "ipython3",
   "version": "3.10.9"
  }
 },
 "nbformat": 4,
 "nbformat_minor": 5
}
