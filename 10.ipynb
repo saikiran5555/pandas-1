{
 "cells": [
  {
   "cell_type": "code",
   "execution_count": null,
   "id": "3a6b194e",
   "metadata": {},
   "outputs": [],
   "source": [
    "import pandas as pd\n",
    "import matplotlib.pyplot as plt\n",
    "\n",
    "# Prompt the user for the CSV file path\n",
    "file_path = input(\"Enter the CSV file path: \")\n",
    "\n",
    "# Read the CSV file into a DataFrame\n",
    "try:\n",
    "    df = pd.read_csv(file_path)\n",
    "except FileNotFoundError:\n",
    "    print(\"File not found. Please check the file path.\")\n",
    "    exit()\n",
    "\n",
    "# Assuming the CSV file contains columns like 'Date', 'Product_Category', and 'Sales'\n",
    "# You may need to adjust these column names based on your actual CSV file structure\n",
    "\n",
    "# Group the data by 'Date' and 'Product_Category' and sum the sales\n",
    "pivot_df = df.pivot_table(index='Date', columns='Product_Category', values='Sales', aggfunc='sum')\n",
    "\n",
    "# Plot the stacked bar chart\n",
    "pivot_df.plot(kind='bar', stacked=True, figsize=(10, 6))\n",
    "\n",
    "# Customize the chart labels and title\n",
    "plt.xlabel('Date')\n",
    "plt.ylabel('Sales')\n",
    "plt.title('Stacked Bar Chart of Sales by Product Category over Time')\n",
    "\n",
    "# Show the chart\n",
    "plt.legend(title='Product Category', bbox_to_anchor=(1.05, 1), loc='upper left')\n",
    "plt.tight_layout()\n",
    "plt.show()\n"
   ]
  },
  {
   "cell_type": "markdown",
   "id": "27f44776",
   "metadata": {},
   "source": [
    "In this program:\n",
    "\n",
    "The user is prompted to enter the CSV file path.\n",
    "\n",
    "The program reads the CSV file into a DataFrame using pd.read_csv.\n",
    "\n",
    "It groups the data by 'Date' and 'Product_Category' and calculates the sum of sales using pivot_table.\n",
    "\n",
    "The stacked bar chart is created using plot(kind='bar', stacked=True).\n",
    "\n",
    "Chart labels and title are customized.\n",
    "\n",
    "The chart is displayed using plt.show() from the matplotlib library."
   ]
  }
 ],
 "metadata": {
  "kernelspec": {
   "display_name": "Python 3 (ipykernel)",
   "language": "python",
   "name": "python3"
  },
  "language_info": {
   "codemirror_mode": {
    "name": "ipython",
    "version": 3
   },
   "file_extension": ".py",
   "mimetype": "text/x-python",
   "name": "python",
   "nbconvert_exporter": "python",
   "pygments_lexer": "ipython3",
   "version": "3.10.9"
  }
 },
 "nbformat": 4,
 "nbformat_minor": 5
}
