{
 "cells": [
  {
   "cell_type": "code",
   "execution_count": null,
   "id": "75d6e373",
   "metadata": {},
   "outputs": [],
   "source": [
    "import pandas as pd\n",
    "\n",
    "# Prompt the user for the CSV file path\n",
    "file_path = input(\"Enter the CSV file path: \")\n",
    "\n",
    "# Prompt the user for the column name to convert to categorical\n",
    "column_name = input(\"Enter the column name to convert to categorical: \")\n",
    "\n",
    "# Prompt the user for the category order (comma-separated)\n",
    "category_order = input(\"Enter the category order (comma-separated): \").split(',')\n",
    "\n",
    "# Read the CSV file into a DataFrame\n",
    "try:\n",
    "    df = pd.read_csv(file_path)\n",
    "except FileNotFoundError:\n",
    "    print(\"File not found. Please check the file path.\")\n",
    "    exit()\n",
    "\n",
    "# Convert the specified column to categorical\n",
    "try:\n",
    "    df[column_name] = pd.Categorical(df[column_name], categories=category_order, ordered=True)\n",
    "except KeyError:\n",
    "    print(f\"Column '{column_name}' not found in the CSV file.\")\n",
    "    exit()\n",
    "\n",
    "# Sort the DataFrame based on the categorical column\n",
    "sorted_df = df.sort_values(by=column_name)\n",
    "\n",
    "# Display the sorted data\n",
    "print(\"Sorted Data:\")\n",
    "print(sorted_df)\n"
   ]
  },
  {
   "cell_type": "markdown",
   "id": "6334ca10",
   "metadata": {},
   "source": [
    "In this program:\n",
    "\n",
    "The user is prompted to enter the CSV file path, column name, and category order.\n",
    "\n",
    "The program reads the CSV file into a DataFrame using pd.read_csv.\n",
    "\n",
    "It converts the specified column to a categorical data type using pd.Categorical.\n",
    "\n",
    "The data is sorted based on the categorical column using sort_values.\n",
    "\n",
    "Finally, the sorted data is displayed to the user."
   ]
  }
 ],
 "metadata": {
  "kernelspec": {
   "display_name": "Python 3 (ipykernel)",
   "language": "python",
   "name": "python3"
  },
  "language_info": {
   "codemirror_mode": {
    "name": "ipython",
    "version": 3
   },
   "file_extension": ".py",
   "mimetype": "text/x-python",
   "name": "python",
   "nbconvert_exporter": "python",
   "pygments_lexer": "ipython3",
   "version": "3.10.9"
  }
 },
 "nbformat": 4,
 "nbformat_minor": 5
}
