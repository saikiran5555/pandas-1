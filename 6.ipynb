{
 "cells": [
  {
   "cell_type": "markdown",
   "id": "ce3c8f3a",
   "metadata": {},
   "source": [
    "In Pandas, the term \"window functions\" typically refers to a family of functions that allow you to perform operations on a set of data points within a moving or rolling window of fixed size along a specific axis (usually time or index). These functions are incredibly useful for various data manipulation and analysis tasks, especially when working with time series data or sequential data. Window functions provide a way to calculate metrics, aggregations, or transformations over a rolling window of data.\n",
    "\n",
    "Some common types of window functions in Pandas include:\n",
    "\n",
    "Rolling Functions (rolling()): These functions create a rolling view or window of data and allow you to perform calculations within that window. You can specify the window size and then apply various aggregation functions such as mean(), sum(), min(), max(), etc.\n",
    "\n",
    "Expanding Functions (expanding()): Expanding functions create an expanding window that grows with the data and calculates cumulative metrics over time. These functions are useful for tracking cumulative statistics.\n",
    "\n",
    "Exponentially Weighted Moving Average (EWMA) (ewm()): EWMA functions apply exponential decay to data points in the window, giving more weight to recent data. This is useful for smoothing time series data.\n",
    "\n",
    "Aggregate Functions (agg()): You can use the agg() function in combination with rolling() or other window functions to apply custom aggregation functions to the data within the window.\n",
    "\n",
    "Window Functions for Grouped Data: You can also apply window functions to grouped data using the groupby() method. This allows you to calculate windowed statistics within each group separately."
   ]
  },
  {
   "cell_type": "code",
   "execution_count": null,
   "id": "b6e3ee27",
   "metadata": {},
   "outputs": [],
   "source": []
  }
 ],
 "metadata": {
  "kernelspec": {
   "display_name": "Python 3 (ipykernel)",
   "language": "python",
   "name": "python3"
  },
  "language_info": {
   "codemirror_mode": {
    "name": "ipython",
    "version": 3
   },
   "file_extension": ".py",
   "mimetype": "text/x-python",
   "name": "python",
   "nbconvert_exporter": "python",
   "pygments_lexer": "ipython3",
   "version": "3.10.9"
  }
 },
 "nbformat": 4,
 "nbformat_minor": 5
}
