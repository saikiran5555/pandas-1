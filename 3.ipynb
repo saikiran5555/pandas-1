{
 "cells": [
  {
   "cell_type": "markdown",
   "id": "6a525235",
   "metadata": {},
   "source": [
    "First, let's reindex the DataFrame df1 using the provided reindex variable and store it in the variable new_df. Then, we'll examine the outputs of new_df.loc[2] and new_df.iloc[2] to see if there are any differences."
   ]
  },
  {
   "cell_type": "code",
   "execution_count": null,
   "id": "8e0dd8ce",
   "metadata": {},
   "outputs": [],
   "source": [
    "import pandas as pd\n",
    "import numpy as np\n",
    "\n",
    "# Given DataFrame df1\n",
    "columns = ['column_1', 'column_2', 'column_3', 'column_4', 'column_5', 'column_6']\n",
    "indices = [1, 2, 3, 4, 5, 6]\n",
    "df1 = pd.DataFrame(np.random.rand(6, 6), columns=columns, index=indices)\n",
    "\n",
    "# Reindex df1 using the provided reindex variable\n",
    "reindex = [3, 0, 1, 2]\n",
    "new_df = df1.reindex(reindex)\n",
    "\n",
    "# Now, let's examine the output of new_df.loc[2] and new_df.iloc[2]\n",
    "\n",
    "# Output of new_df.loc[2]\n",
    "output_loc = new_df.loc[2]\n",
    "print(\"Output of new_df.loc[2]:\\n\", output_loc)\n",
    "\n",
    "# Output of new_df.iloc[2]\n",
    "output_iloc = new_df.iloc[2]\n",
    "print(\"\\nOutput of new_df.iloc[2]:\\n\", output_iloc)\n"
   ]
  },
  {
   "cell_type": "markdown",
   "id": "52020659",
   "metadata": {},
   "source": [
    "The outputs of new_df.loc[2] and new_df.iloc[2] will indeed be different because they use different methods for indexing:\n",
    "\n",
    "new_df.loc[2]: This uses label-based indexing. It will attempt to locate a row with the label/index '2'. However, since we've reindexed new_df, the label '2' now corresponds to the row with the index '1' in the original df1. So, it will return the row with index '1' from new_df, which was originally at index '2' in df1.\n",
    "\n",
    "new_df.iloc[2]: This uses integer-based indexing, which doesn't consider the row labels but rather the integer positions. It will return the third row of new_df, which corresponds to the row at integer position '2' in new_df.\n",
    "\n",
    "Therefore, there will be a difference in the outputs because one is based on labels (loc) and the other is based on integer positions (iloc). The outputs will be from different rows of the DataFrame."
   ]
  }
 ],
 "metadata": {
  "kernelspec": {
   "display_name": "Python 3 (ipykernel)",
   "language": "python",
   "name": "python3"
  },
  "language_info": {
   "codemirror_mode": {
    "name": "ipython",
    "version": 3
   },
   "file_extension": ".py",
   "mimetype": "text/x-python",
   "name": "python",
   "nbconvert_exporter": "python",
   "pygments_lexer": "ipython3",
   "version": "3.10.9"
  }
 },
 "nbformat": 4,
 "nbformat_minor": 5
}
