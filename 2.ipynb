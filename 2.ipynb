{
 "cells": [
  {
   "cell_type": "code",
   "execution_count": null,
   "id": "6cca1f30",
   "metadata": {},
   "outputs": [],
   "source": [
    "In Pandas, loc and iloc are two commonly used functions for selecting data from a DataFrame, but they have different ways of indexing and selecting data:\n",
    "\n",
    "loc (label-based selection):\n",
    "\n",
    "loc is primarily label-based, meaning it is used for selecting data using row and column labels. You specify row and column labels to extract data.\n",
    "You can use labels (either strings or integers) to slice or select specific rows and columns.\n",
    "It includes the endpoint when slicing (inclusive on both ends).\n",
    "Example: df.loc[row_label, column_label]\n",
    "iloc (integer-based selection):\n",
    "\n",
    "iloc is integer-based, so it is used for selecting data by integer position. You specify row and column indices to extract data.\n",
    "It is 0-based, which means that the first row and column have an index of 0.\n",
    "It follows Python's typical slicing conventions (exclusive of the endpoint for slices).\n",
    "Example: df.iloc[row_index, column_index]\n",
    "Here are some examples to illustrate the difference:\n",
    "\n",
    "python\n",
    "Copy code\n",
    "import pandas as pd\n",
    "\n",
    "data = {'A': [1, 2, 3], 'B': [4, 5, 6]}\n",
    "df = pd.DataFrame(data, index=['X', 'Y', 'Z'])\n",
    "\n",
    "# Using loc to select data by labels\n",
    "print(df.loc['Y', 'B'])  # Selects the value at row 'Y' and column 'B'\n",
    "\n",
    "# Using iloc to select data by integer position\n",
    "print(df.iloc[1, 1])  # Selects the value at row index 1 and column index 1\n",
    "In summary, loc is used for label-based selection (using row and column labels), while iloc is used for integer-based selection (using row and column indices). Your choice between the two methods depends on whether you want to select data based on labels or integer positions.\n",
    "\n",
    "\n",
    "\n",
    "\n",
    "\n"
   ]
  }
 ],
 "metadata": {
  "kernelspec": {
   "display_name": "Python 3 (ipykernel)",
   "language": "python",
   "name": "python3"
  },
  "language_info": {
   "codemirror_mode": {
    "name": "ipython",
    "version": 3
   },
   "file_extension": ".py",
   "mimetype": "text/x-python",
   "name": "python",
   "nbconvert_exporter": "python",
   "pygments_lexer": "ipython3",
   "version": "3.10.9"
  }
 },
 "nbformat": 4,
 "nbformat_minor": 5
}
