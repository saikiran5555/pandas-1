{
 "cells": [
  {
   "cell_type": "code",
   "execution_count": null,
   "id": "2532fc7a",
   "metadata": {},
   "outputs": [],
   "source": [
    "import pandas as pd\n",
    "import numpy as np\n",
    "\n",
    "# Given DataFrame df1\n",
    "columns = ['column_1', 'column_2', 'column_3', 'column_4', 'column_5', 'column_6']\n",
    "indices = [1, 2, 3, 4, 5, 6]\n",
    "df1 = pd.DataFrame(np.random.rand(6, 6), columns=columns, index=indices)\n",
    "\n",
    "# Replace the data in the second row of 'column_2' with a string\n",
    "df1.loc[2, 'column_2'] = 'Hello'\n",
    "\n",
    "# Attempt to calculate the mean of 'column_2' (this will result in an error)\n",
    "mean_column_2 = df1['column_2'].mean()\n",
    "print(\"Mean of 'column_2':\", mean_column_2)\n"
   ]
  },
  {
   "cell_type": "markdown",
   "id": "97900965",
   "metadata": {},
   "source": [
    "The code above will raise a TypeError because the 'column_2' now contains a mix of numeric and non-numeric (string) values. Pandas cannot compute the mean of such a column.\n",
    "\n",
    "If you need to calculate the mean of a column, make sure that all the values in that column are of a numeric data type. If you want to replace a specific row with a string, you should consider using a different approach, such as creating a separate column for non-numeric data or handling the string data separately from the numeric data."
   ]
  }
 ],
 "metadata": {
  "kernelspec": {
   "display_name": "Python 3 (ipykernel)",
   "language": "python",
   "name": "python3"
  },
  "language_info": {
   "codemirror_mode": {
    "name": "ipython",
    "version": 3
   },
   "file_extension": ".py",
   "mimetype": "text/x-python",
   "name": "python",
   "nbconvert_exporter": "python",
   "pygments_lexer": "ipython3",
   "version": "3.10.9"
  }
 },
 "nbformat": 4,
 "nbformat_minor": 5
}
